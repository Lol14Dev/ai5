{
 "cells": [
  {
   "cell_type": "code",
   "execution_count": 2,
   "id": "3a89ed0d-4c08-4bf7-baba-766b42444b2e",
   "metadata": {},
   "outputs": [
    {
     "name": "stdout",
     "output_type": "stream",
     "text": [
      "Solution found:\n",
      "T: 7\n",
      "W: 3\n",
      "O: 4\n",
      "F: 1\n",
      "U: 6\n",
      "R: 8\n"
     ]
    }
   ],
   "source": [
    "from itertools import permutations\n",
    "\n",
    "def is_valid_assignment(assignment):\n",
    "    T = assignment['T']\n",
    "    W = assignment['W']\n",
    "    O = assignment['O']\n",
    "    F = assignment['F']\n",
    "    U = assignment['U']\n",
    "    R = assignment['R']\n",
    "    \n",
    "    if len(set(assignment.values())) != len(assignment):\n",
    "        return False\n",
    "    \n",
    "    if F == 0 or T == 0:\n",
    "        return False\n",
    "    \n",
    "    C10 = (O + O) // 10\n",
    "    C100 = (W + W + C10) // 10\n",
    "    C1000 = (T + T + C100) // 10\n",
    "    \n",
    "    if (O + O) % 10 != R:\n",
    "        return False\n",
    "    if (W + W + C10) % 10 != U:\n",
    "        return False\n",
    "    if (T + T + C100) % 10 != O:\n",
    "        return False\n",
    "    if C1000 != F:\n",
    "        return False\n",
    "    \n",
    "    return True\n",
    "\n",
    "def local_search():\n",
    "    letters = ['T', 'W', 'O', 'F', 'U', 'R']\n",
    "    for perm in permutations(range(10), len(letters)):\n",
    "        assignment = dict(zip(letters, perm))\n",
    "        if is_valid_assignment(assignment):\n",
    "            return assignment\n",
    "    return None\n",
    "\n",
    "solution = local_search()\n",
    "if solution:\n",
    "    print(\"Solution found:\")\n",
    "    for letter, digit in solution.items():\n",
    "        print(f\"{letter}: {digit}\")\n",
    "else:\n",
    "    print(\"No solution found.\")\n"
   ]
  },
  {
   "cell_type": "code",
   "execution_count": 3,
   "id": "54b237fe-7443-459d-8524-db2e6fe9b4c4",
   "metadata": {},
   "outputs": [
    {
     "name": "stdout",
     "output_type": "stream",
     "text": [
      "Knowledge Base:\n",
      "dumbledore & (dumbledore | hagrid) & (Implies(~rain, hagrid)) & ~(dumbledore & hagrid)\n",
      "\n",
      "Is the knowledge base satisfiable? {hagrid: False, rain: True, dumbledore: True}\n",
      "\n",
      "Did Harry visit Hagrid? False\n",
      "Did it rain today? {dumbledore: True, hagrid: False}\n"
     ]
    }
   ],
   "source": [
    "from sympy import symbols, And, Or, Not, Implies, satisfiable\n",
    "\n",
    "rain = symbols(\"rain\")       \n",
    "hagrid = symbols(\"hagrid\")   \n",
    "dumbledore = symbols(\"dumbledore\")  \n",
    "\n",
    "knowledge_base = And(\n",
    "    Implies(Not(rain), hagrid),  \n",
    "    Not(And(hagrid, dumbledore)), \n",
    "    Or(hagrid, dumbledore),  \n",
    "    dumbledore  \n",
    ")\n",
    "\n",
    "print(\"Knowledge Base:\")\n",
    "print(knowledge_base)\n",
    "\n",
    "is_satisfiable = satisfiable(knowledge_base)\n",
    "print(\"\\nIs the knowledge base satisfiable?\", is_satisfiable)\n",
    "\n",
    "hagrid_check = satisfiable(knowledge_base.subs({hagrid: True}))\n",
    "print(\"\\nDid Harry visit Hagrid?\", hagrid_check)\n",
    "\n",
    "rain_check = satisfiable(knowledge_base.subs({rain: True}))\n",
    "print(\"Did it rain today?\", rain_check)"
   ]
  },
  {
   "cell_type": "code",
   "execution_count": 6,
   "id": "3e3ed5cb-dc6e-458a-a267-0673c04114ea",
   "metadata": {},
   "outputs": [
    {
     "name": "stdout",
     "output_type": "stream",
     "text": [
      "Knowledge Base:\n",
      "alive & eats & food & (Implies(food, john_likes(peanuts))) & (apple | peanuts | vegetable) & (Implies(alive & eats, food))\n",
      "\n",
      "Does John like peanuts? {john_likes(peanuts): True, food: True, eats: True, alive: True}\n"
     ]
    }
   ],
   "source": [
    "from sympy import symbols, And, Or, Not, Implies, satisfiable\n",
    "\n",
    "john_likes = symbols(\"john_likes(peanuts)\")\n",
    "peanuts = symbols(\"peanuts\")\n",
    "alive = symbols(\"alive\")\n",
    "food = symbols(\"food\")\n",
    "eats = symbols(\"eats\")\n",
    "anil = symbols(\"anil\")\n",
    "harry = symbols(\"harry\")\n",
    "\n",
    "knowledge_base = And(\n",
    "    Implies(food, john_likes),\n",
    "    food,\n",
    "    Or(peanuts, symbols(\"apple\"), symbols(\"vegetable\")),\n",
    "    Implies(And(eats, alive), food),\n",
    "    And(eats.subs({anil: True, peanuts: peanuts}), alive.subs({anil: True})),\n",
    "    Implies(eats.subs({anil: True, symbols(\"x\"): symbols(\"x\")}),\n",
    "            eats.subs({harry: True, symbols(\"x\"): symbols(\"x\")}))\n",
    ")\n",
    "\n",
    "print(\"Knowledge Base:\")\n",
    "print(knowledge_base)\n",
    "john_likes_peanuts_check = satisfiable(knowledge_base.subs({peanuts: True}))\n",
    "print(\"\\nDoes John like peanuts?\", john_likes_peanuts_check)"
   ]
  }
 ],
 "metadata": {
  "kernelspec": {
   "display_name": "Python [conda env:base]",
   "language": "python",
   "name": "conda-base-py"
  },
  "language_info": {
   "codemirror_mode": {
    "name": "ipython",
    "version": 3
   },
   "file_extension": ".py",
   "mimetype": "text/x-python",
   "name": "python",
   "nbconvert_exporter": "python",
   "pygments_lexer": "ipython3",
   "version": "3.13.5"
  }
 },
 "nbformat": 4,
 "nbformat_minor": 5
}
