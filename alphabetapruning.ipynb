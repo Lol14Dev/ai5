{
 "cells": [
  {
   "cell_type": "markdown",
   "id": "da9b56ce-6ef2-45ee-b880-7c14eebdece4",
   "metadata": {},
   "source": [
    "## ALPHA BETA PRUNING"
   ]
  },
  {
   "cell_type": "code",
   "execution_count": 22,
   "id": "59c2e6d7-6cb6-4dd0-9ebc-cf1bc7d8dd4b",
   "metadata": {},
   "outputs": [
    {
     "name": "stdout",
     "output_type": "stream",
     "text": [
      "values of min player-> 5\n",
      "value of max player-> 6\n",
      "value of min player-> 5\n",
      "The optimal value is: 5\n"
     ]
    }
   ],
   "source": [
    "MAX = 1000\n",
    "MIN = -1000\n",
    "\n",
    "def minmax_alpha_beta_with_path(depth, node_index, is_max_player, scores, alpha, beta):\n",
    " \n",
    "    if depth == 3:\n",
    "        return (scores[node_index], -1)\n",
    "\n",
    "    best_child_index = -1\n",
    "\n",
    "    if is_max_player:\n",
    "        best_value = MIN\n",
    "        \n",
    "        for i in range(2):\n",
    "            child_index = node_index * 2 + i\n",
    "            val, _ = minmax_alpha_beta_with_path(depth + 1, child_index, False, scores, alpha, beta)\n",
    "            \n",
    "            if val > best_value:\n",
    "                best_value = val\n",
    "                best_child_index = child_index\n",
    "            \n",
    "            alpha = max(alpha, best_value)\n",
    "\n",
    "            if beta <= alpha:\n",
    "                break\n",
    "        return (best_value, best_child_index)\n",
    "\n",
    "    else:\n",
    "        best_value = MAX\n",
    "\n",
    "        for i in range(2):\n",
    "            child_index = node_index * 2 + i\n",
    "            val, _ = minmax_alpha_beta_with_path(depth + 1, child_index, True, scores, alpha, beta)\n",
    "\n",
    "            if val < best_value:\n",
    "                best_value = val\n",
    "                best_child_index = child_index\n",
    "\n",
    "            beta = min(beta, best_value)\n",
    "\n",
    "            if beta <= alpha:\n",
    "                break\n",
    "        return (best_value, best_child_index)\n",
    "\n",
    "def print_optimal_path(scores):\n",
    "    path = []\n",
    "    current_node = 0\n",
    "    current_depth = 0\n",
    "    is_max_player = True\n",
    "\n",
    "    while current_depth < 3:\n",
    "        path.append(current_node)\n",
    "        _, next_node = minmax_alpha_beta_with_path(current_depth, current_node, is_max_player, scores, MIN, MAX)\n",
    "        current_node = next_node\n",
    "        current_depth += 1\n",
    "        is_max_player = not is_max_player\n",
    "    \n",
    "    path.append(current_node)\n",
    "    \n",
    "    print(\"Optimal Path (Node Indices):\", path)\n",
    "\n",
    "if __name__ == \"__main__\":\n",
    "    scores = [3, 5, 6, 9, 1, 2, 0, -1]\n",
    "    print(\"values of min player-> 5\")\n",
    "    print(\"value of max player-> 6\")\n",
    "    print(\"value of min player-> 5\")\n",
    "    \n",
    "    optimal_value, _ = minmax_alpha_beta_with_path(0, 0, True, scores, MIN, MAX)\n",
    "    print(\"The optimal value is:\", optimal_value)"
   ]
  },
  {
   "cell_type": "markdown",
   "id": "3c6b1b6f-1905-4e47-8604-3cf5b7e91b44",
   "metadata": {},
   "source": [
    "## TRAVELING SALESMAN"
   ]
  },
  {
   "cell_type": "code",
   "execution_count": 25,
   "id": "37c0bd4a-941e-425b-9348-0db0a9baa720",
   "metadata": {},
   "outputs": [
    {
     "name": "stdout",
     "output_type": "stream",
     "text": [
      "Initial tour: (3, 1, 2, 0) -> Distance: 95\n",
      "Improved tour: (1, 3, 2, 0) -> Distance: 80\n",
      "\n",
      "Reached a local optimum.\n",
      "\n",
      "Final optimal tour found: (1, 3, 2, 0) -> Distance: 80\n"
     ]
    }
   ],
   "source": [
    "import random\n",
    "\n",
    "DISTANCES = [\n",
    "    [0, 10, 15, 20],   \n",
    "    [10, 0, 35, 25],   \n",
    "    [15, 35, 0, 30],   \n",
    "    [20, 25, 30, 0]    \n",
    "]\n",
    "\n",
    "def total_distance(tour):\n",
    "    dist = 0\n",
    "    for i in range(len(tour) - 1):\n",
    "        dist += DISTANCES[tour[i]][tour[i+1]]\n",
    "    dist += DISTANCES[tour[-1]][tour[0]]  \n",
    "    return dist\n",
    "\n",
    "def get_neighbor(tour):\n",
    "    neighbor = list(tour)\n",
    "    i, j = random.sample(range(len(neighbor)), 2)\n",
    "    neighbor[i], neighbor[j] = neighbor[j], neighbor[i]\n",
    "    return tuple(neighbor)\n",
    "\n",
    "def hill_climbing():\n",
    "    \n",
    "    cities = [0, 1, 2, 3]\n",
    "    random.shuffle(cities)\n",
    "    current_tour = tuple(cities)\n",
    "    current_distance = total_distance(current_tour)\n",
    "\n",
    "    print(f\"Initial tour: {current_tour} -> Distance: {current_distance}\")\n",
    "\n",
    "    while True:\n",
    "        best_neighbor = None\n",
    "        best_neighbor_distance = current_distance\n",
    "\n",
    "        for _ in range(50):\n",
    "            neighbor = get_neighbor(current_tour)\n",
    "            neighbor_distance = total_distance(neighbor)\n",
    "\n",
    "            if neighbor_distance < best_neighbor_distance:\n",
    "                best_neighbor = neighbor\n",
    "                best_neighbor_distance = neighbor_distance\n",
    "        \n",
    "        if best_neighbor_distance < current_distance:\n",
    "            current_tour = best_neighbor\n",
    "            current_distance = best_neighbor_distance\n",
    "            print(f\"Improved tour: {current_tour} -> Distance: {current_distance}\")\n",
    "        else:\n",
    "            print(\"\\nReached a local optimum.\")\n",
    "            return current_tour, current_distance\n",
    "\n",
    "if __name__ == \"__main__\":\n",
    "    final_tour, final_distance = hill_climbing()\n",
    "    print(f\"\\nFinal optimal tour found: {final_tour} -> Distance: {final_distance}\")"
   ]
  },
  {
   "cell_type": "code",
   "execution_count": null,
   "id": "f7277818-90f4-42f3-92fb-abb0425392d5",
   "metadata": {},
   "outputs": [],
   "source": []
  }
 ],
 "metadata": {
  "kernelspec": {
   "display_name": "Python [conda env:base]",
   "language": "python",
   "name": "conda-base-py"
  },
  "language_info": {
   "codemirror_mode": {
    "name": "ipython",
    "version": 3
   },
   "file_extension": ".py",
   "mimetype": "text/x-python",
   "name": "python",
   "nbconvert_exporter": "python",
   "pygments_lexer": "ipython3",
   "version": "3.13.5"
  }
 },
 "nbformat": 4,
 "nbformat_minor": 5
}
