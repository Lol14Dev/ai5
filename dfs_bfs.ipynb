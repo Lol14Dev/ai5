{
 "cells": [
  {
   "cell_type": "markdown",
   "id": "2c074535-9926-4b9f-9301-504cb0c88824",
   "metadata": {},
   "source": [
    "## DFS\n"
   ]
  },
  {
   "cell_type": "code",
   "execution_count": 4,
   "id": "ed8733ff-096b-4ad3-85d2-16df859722cd",
   "metadata": {
    "editable": true,
    "slideshow": {
     "slide_type": ""
    },
    "tags": []
   },
   "outputs": [
    {
     "name": "stdout",
     "output_type": "stream",
     "text": [
      "['A', 'C', 'F']\n"
     ]
    }
   ],
   "source": [
    "def dfs(graph, start_node, goal_node):\n",
    "    open_list = [start_node]\n",
    "    closed_list = set()\n",
    "    path = {start_node: None}\n",
    "    while open_list:\n",
    "        current_node = open_list.pop()\n",
    "        if current_node == goal_node:\n",
    "            return reconstruct_path(path, start_node, goal_node)\n",
    "        if current_node not in closed_list:\n",
    "            closed_list.add(current_node)\n",
    "            children = graph.get(current_node, [])\n",
    "            for child in reversed(children):\n",
    "                if child not in closed_list:\n",
    "                    open_list.append(child)\n",
    "                    path[child] = current_node\n",
    "    return f\"Goal state {goal_node} not found in graph\"\n",
    "\n",
    "def reconstruct_path(path, start_node, goal_node):\n",
    "    current_node = goal_node\n",
    "    path_list = []\n",
    "    while current_node is not None:\n",
    "        path_list.append(current_node)\n",
    "        current_node = path.get(current_node)\n",
    "    path_list.reverse()\n",
    "    return path_list\n",
    "\n",
    "graph = {\n",
    "    'A': ['B', 'C'],\n",
    "    'B': ['D', 'E'],\n",
    "    'C': ['F'],\n",
    "    'D': [],\n",
    "    'E': ['G'],\n",
    "    'G': []\n",
    "}\n",
    "\n",
    "start_node = 'A'\n",
    "goal_node = 'F'\n",
    "result = dfs(graph, start_node, goal_node)\n",
    "print(result)\n",
    "\n"
   ]
  },
  {
   "cell_type": "markdown",
   "id": "5d22e5a9-a5f7-4583-9c31-50dd6dc8ad8c",
   "metadata": {},
   "source": [
    "## BFS"
   ]
  },
  {
   "cell_type": "code",
   "execution_count": 5,
   "id": "659038d3-feca-4015-a9bf-7aca4410ae52",
   "metadata": {},
   "outputs": [
    {
     "name": "stdout",
     "output_type": "stream",
     "text": [
      "Path from A to F: ['A', 'B', 'E', 'F']\n"
     ]
    }
   ],
   "source": [
    "from collections import deque\n",
    "\n",
    "def bfs(graph, start_node, goal_node):\n",
    "    open_list = deque([start_node])\n",
    "    closed_list = set()\n",
    "    path = {start_node: None}\n",
    "\n",
    "    while open_list:\n",
    "        current_node = open_list.popleft()\n",
    "\n",
    "        if current_node == goal_node:\n",
    "            return reconstruct_path(path, start_node, goal_node)\n",
    "\n",
    "        if current_node not in closed_list:\n",
    "            closed_list.add(current_node)\n",
    "            children = graph.get(current_node, [])\n",
    "\n",
    "            for child in children:\n",
    "                if child not in closed_list:\n",
    "                    open_list.append(child)\n",
    "                    path[child] = current_node\n",
    "\n",
    "    return f\"Goal state {goal_node} not found in graph\"\n",
    "\n",
    "def reconstruct_path(path, start_node, goal_node):\n",
    "    current_node = goal_node\n",
    "    path_list = []\n",
    "    while current_node is not None:\n",
    "        path_list.append(current_node)\n",
    "        current_node = path.get(current_node)\n",
    "    path_list.reverse()\n",
    "    return path_list\n",
    "\n",
    "# Example usage\n",
    "graph = {\n",
    "    'A': ['B', 'C'],\n",
    "    'B': ['D', 'E'],\n",
    "    'C': ['F'],\n",
    "    'D': [],\n",
    "    'E': ['F'],\n",
    "    'F': []\n",
    "}\n",
    "\n",
    "start_node = 'A'\n",
    "goal_node = 'F'\n",
    "result = bfs(graph, start_node, goal_node)\n",
    "print(f\"Path from {start_node} to {goal_node}: {result}\")\n"
   ]
  },
  {
   "cell_type": "markdown",
   "id": "a98595fc-9fbd-4748-bc66-d4a8bcd3a44c",
   "metadata": {},
   "source": [
    "## best first"
   ]
  },
  {
   "cell_type": "code",
   "execution_count": 1,
   "id": "03d21334-e144-47b3-a37b-2ca97cfadbd2",
   "metadata": {},
   "outputs": [
    {
     "name": "stdout",
     "output_type": "stream",
     "text": [
      "Expanding node: A\n",
      "Expanding node: C\n",
      "Expanding node: E\n",
      "Goal node E found!\n"
     ]
    }
   ],
   "source": [
    "class Node:\n",
    "    def __init__(self, name, heuristic):\n",
    "        self.name = name\n",
    "        self.heuristic = heuristic\n",
    "        self.neighbors = {}\n",
    "        \n",
    "    def add_neighbor(self, neighbor, cost):\n",
    "        self.neighbors[neighbor] = cost\n",
    "\n",
    "def best_first_search(start, goal):\n",
    "    open_list = [start]\n",
    "    closed_list = set()\n",
    "    \n",
    "    while open_list:\n",
    "        current_node = min(open_list, key=lambda node: node.heuristic)\n",
    "        open_list.remove(current_node)\n",
    "        \n",
    "        print(f\"Expanding node: {current_node.name}\")\n",
    "        \n",
    "        if current_node == goal:\n",
    "            print(f\"Goal node {goal.name} found!\")\n",
    "            return\n",
    "\n",
    "        closed_list.add(current_node)\n",
    "        \n",
    "        for neighbor in current_node.neighbors:\n",
    "            if neighbor in closed_list or neighbor in open_list:\n",
    "                continue\n",
    "            open_list.append(neighbor)\n",
    "    print(\"Goal node not found\")\n",
    "\n",
    "if __name__ == \"__main__\":\n",
    "    a = Node('A', 5)\n",
    "    b = Node('B', 3)\n",
    "    c = Node('C', 1)\n",
    "    d = Node('D', 2)\n",
    "    e = Node('E', 0)\n",
    "\n",
    "    a.add_neighbor(b, 1)\n",
    "    a.add_neighbor(c, 4)\n",
    "    b.add_neighbor(d, 2)\n",
    "    c.add_neighbor(e, 3)\n",
    "    d.add_neighbor(e, 1)\n",
    "\n",
    "    best_first_search(a, e)\n",
    "\n",
    "\n",
    "\n"
   ]
  },
  {
   "cell_type": "markdown",
   "id": "68fb6133-b1d4-4f5f-b6cd-801c1130279b",
   "metadata": {},
   "source": [
    "## A*"
   ]
  },
  {
   "cell_type": "code",
   "execution_count": 2,
   "id": "e28778d6-c951-4514-b2fd-28ffd4214392",
   "metadata": {},
   "outputs": [
    {
     "name": "stdout",
     "output_type": "stream",
     "text": [
      "Expanding node: A\n",
      "Expanding node: B\n",
      "Expanding node: C\n",
      "Expanding node: D\n",
      "Expanding node: E\n",
      "Path found:  A -> B -> D -> E\n"
     ]
    }
   ],
   "source": [
    "import heapq\n",
    "\n",
    "class Node:\n",
    "    def __init__(self, name, heuristic):\n",
    "        self.name = name\n",
    "        self.heuristic = heuristic\n",
    "        self.neighbors = {}\n",
    "        self.g = float('inf')\n",
    "        self.parent = None\n",
    "        \n",
    "    def add_neighbor(self, neighbor, cost):\n",
    "        self.neighbors[neighbor] = cost\n",
    "        \n",
    "    def __lt__(self, other):\n",
    "        return (self.g + self.heuristic) < (other.g + other.heuristic)\n",
    "\n",
    "def a_star_search(start, goal):\n",
    "    open_list = [] \n",
    "    closed_list = set()\n",
    "    \n",
    "    start.g = 0\n",
    "    heapq.heappush(open_list, start)\n",
    "    \n",
    "    while open_list:\n",
    "        current_node = heapq.heappop(open_list)\n",
    "        print(f\"Expanding node: {current_node.name}\")\n",
    "        \n",
    "        if current_node == goal:\n",
    "            return reconstruct_path(goal)\n",
    "        \n",
    "        closed_list.add(current_node) \n",
    "        \n",
    "        for neighbor, cost in current_node.neighbors.items():\n",
    "            if neighbor in closed_list:\n",
    "                continue\n",
    "                \n",
    "            tentative_g = current_node.g + cost\n",
    "            \n",
    "            if tentative_g < neighbor.g:\n",
    "                neighbor.g = tentative_g\n",
    "                neighbor.parent = current_node\n",
    "                if neighbor not in open_list:\n",
    "                    heapq.heappush(open_list, neighbor)\n",
    "    \n",
    "    print(\"Goal node not found\")\n",
    "    return None\n",
    "\n",
    "def reconstruct_path(goal): \n",
    "    path = []  \n",
    "    current = goal\n",
    "    while current:\n",
    "        path.append(current.name)\n",
    "        current = current.parent\n",
    "    path.reverse()\n",
    "    return path\n",
    "\n",
    "if __name__ == \"__main__\":\n",
    "    a = Node('A', 5)\n",
    "    b = Node('B', 3)\n",
    "    c = Node('C', 1)\n",
    "    d = Node('D', 2)\n",
    "    e = Node('E', 0)\n",
    "\n",
    "    a.add_neighbor(b, 1)\n",
    "    a.add_neighbor(c, 4)\n",
    "    b.add_neighbor(d, 2)\n",
    "    c.add_neighbor(e, 3)\n",
    "    d.add_neighbor(e, 1)\n",
    "    \n",
    "    path = a_star_search(a, e)\n",
    "    if path:\n",
    "        print(\"Path found: \" , \" -> \".join(path))\n",
    "\n"
   ]
  },
  {
   "cell_type": "code",
   "execution_count": null,
   "id": "18baa50d-3225-43d3-bce6-cd31ebe759f9",
   "metadata": {},
   "outputs": [],
   "source": []
  }
 ],
 "metadata": {
  "kernelspec": {
   "display_name": "Python [conda env:anaconda3]",
   "language": "python",
   "name": "conda-env-anaconda3-py"
  },
  "language_info": {
   "codemirror_mode": {
    "name": "ipython",
    "version": 3
   },
   "file_extension": ".py",
   "mimetype": "text/x-python",
   "name": "python",
   "nbconvert_exporter": "python",
   "pygments_lexer": "ipython3",
   "version": "3.9.13"
  }
 },
 "nbformat": 4,
 "nbformat_minor": 5
}
